{
 "cells": [
  {
   "cell_type": "markdown",
   "id": "5323ad85-846b-4e2c-89dc-c606edd47057",
   "metadata": {},
   "source": [
    "# Data Science Tools and Ecosystem"
   ]
  },
  {
   "cell_type": "markdown",
   "id": "208c73c8-63b9-49f5-b55e-9c592bb085e6",
   "metadata": {},
   "source": [
    "in this notebook data science tools and ecosystem are summarized"
   ]
  },
  {
   "cell_type": "markdown",
   "id": "ad8482d8-c447-4c97-80bb-f91869a3f9a5",
   "metadata": {},
   "source": [
    "some of the popular languages which Data Science uses are:\n",
    "1. Python\n",
    "2. R\n",
    "3. SQL\n",
    "4. JAVA\n",
    "5. SCALA\n",
    "6. JULIA"
   ]
  },
  {
   "cell_type": "markdown",
   "id": "d2eddcc5-97d3-472a-a944-d23672e303dd",
   "metadata": {},
   "source": [
    "Some of commonely used libraries in Data Science include:\n",
    "1. PANDAS\n",
    "2. MATPLOTLIB\n",
    "3. SEABORN\n",
    "4. SCIKIT\n",
    "5. GGPLOT\n",
    "6. DPLYR\n",
    "7. CARET"
   ]
  },
  {
   "cell_type": "markdown",
   "id": "23dea232-7ee7-412f-9bc6-81da1c2b4374",
   "metadata": {},
   "source": [
    "| Data Science Tools                  |\r\n",
    "|-------------------------------------|\r\n",
    "| Jupyter Notebook                    |\r\n",
    "| RStudio                             |\r\n",
    "| Apache Zeppelin                     |\r\n"
   ]
  },
  {
   "cell_type": "markdown",
   "id": "940a9e05-a8cf-4acd-827d-38147c1c3545",
   "metadata": {},
   "source": [
    "### Below are a few examples of evaluating arithmetic expressions in Python"
   ]
  },
  {
   "cell_type": "code",
   "execution_count": 14,
   "id": "f8903c0f-5ad5-4782-8ec8-8739df9323f9",
   "metadata": {},
   "outputs": [
    {
     "data": {
      "text/plain": [
       "17"
      ]
     },
     "execution_count": 14,
     "metadata": {},
     "output_type": "execute_result"
    }
   ],
   "source": [
    "# This a simple arithmetic expression to mutiply then add integers\n",
    "(3*4)+5"
   ]
  },
  {
   "cell_type": "code",
   "execution_count": 16,
   "id": "53d056da-b74e-4e85-b694-8e1a013e54bc",
   "metadata": {},
   "outputs": [
    {
     "data": {
      "text/plain": [
       "3.3333333333333335"
      ]
     },
     "execution_count": 16,
     "metadata": {},
     "output_type": "execute_result"
    }
   ],
   "source": [
    "#This will convert 200 minutes to hours by diving by 60\n",
    "minutes=200\n",
    "hours=minutes/60\n",
    "hours"
   ]
  },
  {
   "cell_type": "markdown",
   "id": "cacc1f0d-d2b5-4fb3-b583-79b66f8309e0",
   "metadata": {},
   "source": [
    "**Objectives:**\r\n",
    "\r\n",
    "- List popular languages for Data Science\r\n",
    "- Describe commonly used data science libraries\r\n",
    "- Demonstrate how to create tables in Markdown\r\n",
    "- Explain the usage of different heading styles in Markdown\r\n",
    "- Understand the functionalities of various data science tools\r\n"
   ]
  },
  {
   "cell_type": "markdown",
   "id": "1e63e1c2-1d9b-4085-bd5d-d7ed47b5a43f",
   "metadata": {},
   "source": [
    "## Author\n",
    "\n",
    "Aftab Ramzan\n"
   ]
  },
  {
   "cell_type": "code",
   "execution_count": null,
   "id": "4f11316c-d35d-41f7-b11e-8bdbacb5a191",
   "metadata": {},
   "outputs": [],
   "source": []
  }
 ],
 "metadata": {
  "kernelspec": {
   "display_name": "Python 3 (ipykernel)",
   "language": "python",
   "name": "python3"
  },
  "language_info": {
   "codemirror_mode": {
    "name": "ipython",
    "version": 3
   },
   "file_extension": ".py",
   "mimetype": "text/x-python",
   "name": "python",
   "nbconvert_exporter": "python",
   "pygments_lexer": "ipython3",
   "version": "3.12.4"
  }
 },
 "nbformat": 4,
 "nbformat_minor": 5
}
